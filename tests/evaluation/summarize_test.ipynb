{
 "cells": [
  {
   "cell_type": "code",
   "execution_count": 2,
   "id": "b892027b",
   "metadata": {},
   "outputs": [],
   "source": [
    "import pandas as pd"
   ]
  },
  {
   "cell_type": "code",
   "execution_count": 3,
   "id": "faf22c46",
   "metadata": {},
   "outputs": [],
   "source": [
    "csv_path = \"./test_results.csv\"\n",
    "df = pd.read_csv(csv_path)"
   ]
  },
  {
   "cell_type": "code",
   "execution_count": 13,
   "id": "4d4f2207",
   "metadata": {},
   "outputs": [],
   "source": [
    "# Grupuj po wariancie i modelu i wyciągnij podstawowe statystyki\n",
    "summary = df.groupby([\"variant\", \"model\"]).agg({\n",
    "    \"cosine_with\": [\"mean\", \"std\"],\n",
    "    \"cosine_without\": [\"mean\", \"std\"],\n",
    "    \"word_overlap\": [\"mean\", \"std\"],\n",
    "    \"total_variant_runtime_s\": [\"mean\", \"std\"]\n",
    "}).round(3)\n"
   ]
  },
  {
   "cell_type": "code",
   "execution_count": 14,
   "id": "b1f743a8",
   "metadata": {},
   "outputs": [
    {
     "name": "stdout",
     "output_type": "stream",
     "text": [
      "         variant         model  cosine_with_mean  cosine_with_std  \\\n",
      "0   classic_top1    llama-3-8b             0.745            0.222   \n",
      "1   classic_top1  mixtral-8x7b             0.601            0.137   \n",
      "2   classic_top1       phi-3.5             0.614            0.109   \n",
      "3   classic_top3    llama-3-8b             0.803            0.203   \n",
      "4   classic_top3  mixtral-8x7b             0.623            0.127   \n",
      "5   classic_top3       phi-3.5             0.626            0.097   \n",
      "6    grover_top1    llama-3-8b             0.748            0.219   \n",
      "7    grover_top1  mixtral-8x7b             0.602            0.136   \n",
      "8    grover_top1       phi-3.5             0.614            0.110   \n",
      "9    grover_top3    llama-3-8b             0.813            0.203   \n",
      "10   grover_top3  mixtral-8x7b             0.622            0.123   \n",
      "11   grover_top3       phi-3.5             0.628            0.106   \n",
      "12    no_context    llama-3-8b             0.577            0.115   \n",
      "13    no_context  mixtral-8x7b             0.545            0.119   \n",
      "14    no_context       phi-3.5             0.518            0.119   \n",
      "\n",
      "    cosine_without_mean  cosine_without_std  word_overlap_mean  \\\n",
      "0                 0.577               0.115             20.771   \n",
      "1                 0.545               0.119             22.542   \n",
      "2                 0.518               0.119             15.967   \n",
      "3                 0.577               0.115             17.456   \n",
      "4                 0.545               0.119             23.608   \n",
      "5                 0.518               0.119             15.642   \n",
      "6                 0.577               0.115             21.300   \n",
      "7                 0.545               0.119             23.941   \n",
      "8                 0.518               0.119             17.243   \n",
      "9                 0.577               0.115             17.069   \n",
      "10                0.545               0.119             24.303   \n",
      "11                0.518               0.119             15.379   \n",
      "12                0.577               0.115            100.000   \n",
      "13                0.545               0.119            100.000   \n",
      "14                0.518               0.119            100.000   \n",
      "\n",
      "    word_overlap_std  total_variant_runtime_s_mean  \\\n",
      "0             23.037                         7.090   \n",
      "1             10.933                         7.090   \n",
      "2              6.264                         7.090   \n",
      "3             19.426                         6.030   \n",
      "4             10.402                         6.030   \n",
      "5              6.738                         6.030   \n",
      "6             24.448                         1.515   \n",
      "7             14.576                         1.515   \n",
      "8             12.299                         1.515   \n",
      "9             18.287                        17.830   \n",
      "10            12.143                        17.830   \n",
      "11             6.069                        17.830   \n",
      "12             0.000                         1.505   \n",
      "13             0.000                         1.505   \n",
      "14             0.000                         1.505   \n",
      "\n",
      "    total_variant_runtime_s_std  \n",
      "0                         8.588  \n",
      "1                         8.588  \n",
      "2                         8.588  \n",
      "3                         9.300  \n",
      "4                         9.300  \n",
      "5                         9.300  \n",
      "6                         0.345  \n",
      "7                         0.345  \n",
      "8                         0.345  \n",
      "9                         8.771  \n",
      "10                        8.771  \n",
      "11                        8.771  \n",
      "12                        0.347  \n",
      "13                        0.347  \n",
      "14                        0.347  \n"
     ]
    }
   ],
   "source": [
    "summary.columns = ['{}_{}'.format(col[0], col[1]) for col in summary.columns.values]\n",
    "summary.reset_index(inplace=True)\n",
    "\n",
    "# Wyświetl w terminalu lub notebooku\n",
    "print(summary)"
   ]
  },
  {
   "cell_type": "code",
   "execution_count": 16,
   "id": "5dad2e8f",
   "metadata": {},
   "outputs": [],
   "source": [
    "summary.to_csv(\"./test_summary.csv\", index=False)"
   ]
  }
 ],
 "metadata": {
  "kernelspec": {
   "display_name": "base",
   "language": "python",
   "name": "python3"
  },
  "language_info": {
   "codemirror_mode": {
    "name": "ipython",
    "version": 3
   },
   "file_extension": ".py",
   "mimetype": "text/x-python",
   "name": "python",
   "nbconvert_exporter": "python",
   "pygments_lexer": "ipython3",
   "version": "3.12.3"
  }
 },
 "nbformat": 4,
 "nbformat_minor": 5
}
