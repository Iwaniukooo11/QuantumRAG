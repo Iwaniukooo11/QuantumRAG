{
 "cells": [
  {
   "cell_type": "code",
   "execution_count": 23,
   "id": "30068903",
   "metadata": {},
   "outputs": [],
   "source": [
    "import pandas as pd\n",
    "import ast"
   ]
  },
  {
   "cell_type": "code",
   "execution_count": 24,
   "id": "340c694a",
   "metadata": {},
   "outputs": [],
   "source": [
    "df = pd.read_csv(\"./time_test_result.csv\")"
   ]
  },
  {
   "cell_type": "code",
   "execution_count": 25,
   "id": "2d5417a1",
   "metadata": {},
   "outputs": [],
   "source": [
    "# Średni czas generowania odpowiedzi dla każdego modelu\n",
    "mean_gen_time_per_model = df.groupby(\"model\")[\"generation_time_s\"].mean()"
   ]
  },
  {
   "cell_type": "code",
   "execution_count": 26,
   "id": "ee422b4f",
   "metadata": {},
   "outputs": [],
   "source": [
    "# Średni czas wyboru top-K kontekstów (dla każdego wariantu)\n",
    "mean_topk_time_per_variant = df.groupby(\"variant\")[\"top_k_context_selection_time_s(grover_or_classic)\"].mean()"
   ]
  },
  {
   "cell_type": "code",
   "execution_count": 27,
   "id": "5de3de2b",
   "metadata": {},
   "outputs": [],
   "source": [
    "# Średni czas wyboru top-10 kontekstów (dla każdego wariantu)\n",
    "mean_top10_time_per_variant = df.groupby(\"variant\")[\"top10_contexts_selection_time_s\"].mean()"
   ]
  },
  {
   "cell_type": "code",
   "execution_count": 28,
   "id": "159facde",
   "metadata": {},
   "outputs": [],
   "source": [
    "# Porównanie top-K kontekstów Grover vs classic\n",
    "# Tworzymy słownik: {(sample_id, top_k): [contexts]}\n",
    "context_map = {}\n",
    "for _, row in df.iterrows():\n",
    "    variant = row[\"variant\"]\n",
    "    top_k = 3 if \"top3\" in variant else 1 if \"top1\" in variant else 0\n",
    "    if top_k == 0:\n",
    "        continue\n",
    "    key = (row[\"sample_id\"], top_k)\n",
    "    source = \"grover\" if \"grover\" in variant else \"classic\"\n",
    "    context_map.setdefault(key, {})[source] = ast.literal_eval(row[\"contexts_used\"])\n"
   ]
  },
  {
   "cell_type": "code",
   "execution_count": 29,
   "id": "c77519dc",
   "metadata": {},
   "outputs": [
    {
     "name": "stdout",
     "output_type": "stream",
     "text": [
      "\n",
      "Mismatch for (43, 1): Grover contexts: [], Classic contexts: [\"All of Notre Dame's undergraduate students are a part of one of the five undergraduate colleges at the school or are in the First Year of Studies program. The First Year of Studies program was established in 1962 to guide incoming freshmen in their first year at the school before they have declared a major. Each student is given an academic advisor from the program who helps them to choose classes that give them exposure to any major in which they are interested. The program also includes a Learning Resource Center which provides time management, collaborative learning, and subject tutoring. This program has been recognized previously, by U.S. News & World Report, as outstanding.\"]\n"
     ]
    }
   ],
   "source": [
    "# Sprawdzenie pokryć\n",
    "matches = []\n",
    "for key, val in context_map.items():\n",
    "    if \"grover\" in val and \"classic\" in val:\n",
    "        match = set(val[\"grover\"]) == set(val[\"classic\"])\n",
    "        matches.append((key, match))\n",
    "        if not match:\n",
    "            print(f\"\\nMismatch for {key}: Grover contexts: {val['grover']}, Classic contexts: {val['classic']}\")\n",
    "\n",
    "# Procent zgodności\n",
    "matching_percent = round(sum(1 for _, m in matches if m) / len(matches) * 100, 2) if matches else 0.0"
   ]
  },
  {
   "cell_type": "code",
   "execution_count": 30,
   "id": "f1a13716",
   "metadata": {},
   "outputs": [],
   "source": [
    "# Średnie cosine similarity i word overlap dla każdej kombinacji model + wariant\n",
    "mean_metrics = df.groupby([\"model\", \"variant\"])[[\"cosine\", \"overlap\"]].mean()"
   ]
  },
  {
   "cell_type": "code",
   "execution_count": 31,
   "id": "3e3bd365",
   "metadata": {},
   "outputs": [
    {
     "name": "stdout",
     "output_type": "stream",
     "text": [
      "1. Średni czas generowania odpowiedzi dla każdego modelu:\n",
      "model\n",
      "llama-3-8b      2.561786\n",
      "mixtral-8x7b    1.184821\n",
      "phi-3.5         2.651964\n",
      "Name: generation_time_s, dtype: float64\n",
      "\n",
      "2. Średni czas wyboru top-K kontekstów dla każdego wariantu:\n",
      "variant\n",
      "classic_top1    0.000000\n",
      "classic_top3    0.000000\n",
      "grover_top1     0.028929\n",
      "grover_top3     0.030357\n",
      "no_context      0.000000\n",
      "Name: top_k_context_selection_time_s(grover_or_classic), dtype: float64\n",
      "\n",
      "3. Średni czas wyboru top-10 kontekstów dla każdego wariantu:\n",
      "variant\n",
      "classic_top1    0.297321\n",
      "classic_top3    0.297321\n",
      "grover_top1     0.297321\n",
      "grover_top3     0.297321\n",
      "no_context      0.297321\n",
      "Name: top10_contexts_selection_time_s, dtype: float64\n",
      "\n",
      "4. Procent zgodnych kontekstów (Grover vs Classic): 99.11%\n",
      "\n",
      "5. Średnie cosine similarity i word overlap:\n",
      "                             cosine    overlap\n",
      "model        variant                          \n",
      "llama-3-8b   classic_top1  0.753046  38.770000\n",
      "             classic_top3  0.800580  46.398393\n",
      "             grover_top1   0.756454  38.770000\n",
      "             grover_top3   0.802609  46.477321\n",
      "             no_context    0.578830   5.676607\n",
      "mixtral-8x7b classic_top1  0.595104   7.736964\n",
      "             classic_top3  0.618498   9.004643\n",
      "             grover_top1   0.596230   7.736964\n",
      "             grover_top3   0.631202  10.680000\n",
      "             no_context    0.545152   2.053393\n",
      "phi-3.5      classic_top1  0.617627   7.622857\n",
      "             classic_top3  0.627677   7.986964\n",
      "             grover_top1   0.617154   7.622857\n",
      "             grover_top3   0.625637   8.600179\n",
      "             no_context    0.518096   1.104286\n"
     ]
    }
   ],
   "source": [
    "# Wyświetlenie\n",
    "print(\"1. Średni czas generowania odpowiedzi dla każdego modelu:\")\n",
    "print(mean_gen_time_per_model)\n",
    "print(\"\\n2. Średni czas wyboru top-K kontekstów dla każdego wariantu:\")\n",
    "print(mean_topk_time_per_variant)\n",
    "print(\"\\n3. Średni czas wyboru top-10 kontekstów dla każdego wariantu:\")\n",
    "print(mean_top10_time_per_variant)\n",
    "print(f\"\\n4. Procent zgodnych kontekstów (Grover vs Classic): {matching_percent}%\")\n",
    "print(\"\\n5. Średnie cosine similarity i word overlap:\")\n",
    "print(mean_metrics)"
   ]
  },
  {
   "cell_type": "code",
   "execution_count": 34,
   "id": "18d541d4",
   "metadata": {},
   "outputs": [],
   "source": [
    "# Zapisanie wyników do pliku CSV\n",
    "output_df = pd.DataFrame(mean_metrics).reset_index()\n",
    "output_df.to_csv(\"mean_metrics_test2.csv\", index=False)"
   ]
  }
 ],
 "metadata": {
  "kernelspec": {
   "display_name": "base",
   "language": "python",
   "name": "python3"
  },
  "language_info": {
   "codemirror_mode": {
    "name": "ipython",
    "version": 3
   },
   "file_extension": ".py",
   "mimetype": "text/x-python",
   "name": "python",
   "nbconvert_exporter": "python",
   "pygments_lexer": "ipython3",
   "version": "3.12.3"
  }
 },
 "nbformat": 4,
 "nbformat_minor": 5
}
